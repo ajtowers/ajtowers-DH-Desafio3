{
 "cells": [
  {
   "cell_type": "markdown",
   "metadata": {},
   "source": [
    "## Imports"
   ]
  },
  {
   "cell_type": "code",
   "execution_count": 1,
   "metadata": {},
   "outputs": [],
   "source": [
    "from IPython.core.interactiveshell import InteractiveShell\n",
    "InteractiveShell.ast_node_interactivity = \"all\"\n",
    "import warnings\n",
    "warnings.filterwarnings('ignore')\n",
    "RS = 18"
   ]
  },
  {
   "cell_type": "code",
   "execution_count": 2,
   "metadata": {},
   "outputs": [],
   "source": [
    "import pandas as pd\n",
    "pd.set_option('display.max_colwidth', -1)\n",
    "import numpy as np"
   ]
  },
  {
   "cell_type": "code",
   "execution_count": 3,
   "metadata": {},
   "outputs": [],
   "source": [
    "import matplotlib.pyplot as plt\n",
    "%matplotlib inline\n",
    "import seaborn as sns\n",
    "sns.set(style = \"whitegrid\")"
   ]
  },
  {
   "cell_type": "markdown",
   "metadata": {},
   "source": [
    "## Funciones"
   ]
  },
  {
   "cell_type": "code",
   "execution_count": 4,
   "metadata": {},
   "outputs": [],
   "source": [
    "def plot_target_prop(y):\n",
    "    vc = y.value_counts(normalize=True)\n",
    "    y.value_counts().plot(kind='bar', title=f'Proporción de Clases:\\n0:{vc[0]:.3f} / 1:{vc[1]:.3f}')\n",
    "    plt.tight_layout\n",
    "    plt.show()\n",
    "    return "
   ]
  },
  {
   "cell_type": "code",
   "execution_count": 5,
   "metadata": {},
   "outputs": [],
   "source": [
    "def plot_2d_space(X, y, label='Classes'):   \n",
    "    colors = ['#1F77B4', '#FF7F0E']\n",
    "    markers = ['o', 's']\n",
    "    for l, c, m in zip(np.unique(y), colors, markers):\n",
    "        plt.scatter(\n",
    "            X[y==l, 0],\n",
    "            X[y==l, 1],\n",
    "            c=c, label=l, marker=m\n",
    "        )\n",
    "    plt.title(label)\n",
    "    plt.legend(loc='upper right')\n",
    "    plt.show()"
   ]
  },
  {
   "cell_type": "markdown",
   "metadata": {},
   "source": [
    "### Lectura de Dataset"
   ]
  },
  {
   "cell_type": "code",
   "execution_count": 6,
   "metadata": {},
   "outputs": [],
   "source": [
    "df = pd.DataFrame()"
   ]
  },
  {
   "cell_type": "code",
   "execution_count": 7,
   "metadata": {},
   "outputs": [],
   "source": [
    "for fnum in range(15, 22):\n",
    "    file = pd.read_csv('Data/Train/ctr_'+str(fnum)+'.csv')\n",
    "    df = pd.concat([df, file], axis=0, ignore_index=True)"
   ]
  },
  {
   "cell_type": "code",
   "execution_count": 8,
   "metadata": {},
   "outputs": [
    {
     "data": {
      "text/plain": [
       "(8644592, 52)"
      ]
     },
     "execution_count": 8,
     "metadata": {},
     "output_type": "execute_result"
    }
   ],
   "source": [
    "df.shape"
   ]
  },
  {
   "cell_type": "code",
   "execution_count": 9,
   "metadata": {},
   "outputs": [
    {
     "data": {
      "text/html": [
       "<div>\n",
       "<style scoped>\n",
       "    .dataframe tbody tr th:only-of-type {\n",
       "        vertical-align: middle;\n",
       "    }\n",
       "\n",
       "    .dataframe tbody tr th {\n",
       "        vertical-align: top;\n",
       "    }\n",
       "\n",
       "    .dataframe thead th {\n",
       "        text-align: right;\n",
       "    }\n",
       "</style>\n",
       "<table border=\"1\" class=\"dataframe\">\n",
       "  <thead>\n",
       "    <tr style=\"text-align: right;\">\n",
       "      <th></th>\n",
       "      <th>Label</th>\n",
       "      <th>action_categorical_0</th>\n",
       "      <th>action_categorical_1</th>\n",
       "      <th>action_categorical_2</th>\n",
       "      <th>action_categorical_3</th>\n",
       "      <th>action_categorical_4</th>\n",
       "      <th>action_categorical_5</th>\n",
       "      <th>action_categorical_6</th>\n",
       "      <th>action_categorical_7</th>\n",
       "      <th>action_list_0</th>\n",
       "      <th>...</th>\n",
       "      <th>creative_categorical_7</th>\n",
       "      <th>creative_categorical_8</th>\n",
       "      <th>creative_categorical_9</th>\n",
       "      <th>creative_height</th>\n",
       "      <th>creative_width</th>\n",
       "      <th>device_id</th>\n",
       "      <th>device_id_type</th>\n",
       "      <th>gender</th>\n",
       "      <th>has_video</th>\n",
       "      <th>timezone_offset</th>\n",
       "    </tr>\n",
       "  </thead>\n",
       "  <tbody>\n",
       "    <tr>\n",
       "      <th>0</th>\n",
       "      <td>0</td>\n",
       "      <td>c2e4f717</td>\n",
       "      <td>e709bbc0</td>\n",
       "      <td>5f2b3eb9</td>\n",
       "      <td>e7329a92</td>\n",
       "      <td>3b148f0b</td>\n",
       "      <td>6bc0e29c</td>\n",
       "      <td>59638795</td>\n",
       "      <td>e2538fca</td>\n",
       "      <td>IAB20-6</td>\n",
       "      <td>...</td>\n",
       "      <td>NaN</td>\n",
       "      <td>b6910b48</td>\n",
       "      <td>65dcab89</td>\n",
       "      <td>50.0</td>\n",
       "      <td>320.0</td>\n",
       "      <td>19503756</td>\n",
       "      <td>6324b367</td>\n",
       "      <td>m</td>\n",
       "      <td>False</td>\n",
       "      <td>1.0</td>\n",
       "    </tr>\n",
       "    <tr>\n",
       "      <th>1</th>\n",
       "      <td>0</td>\n",
       "      <td>9915ffee</td>\n",
       "      <td>dc24b79b</td>\n",
       "      <td>d2f34a41</td>\n",
       "      <td>7ce4e1a3</td>\n",
       "      <td>b55cb32e</td>\n",
       "      <td>6bc0e29c</td>\n",
       "      <td>59638795</td>\n",
       "      <td>e2538fca</td>\n",
       "      <td>IAB22-2</td>\n",
       "      <td>...</td>\n",
       "      <td>b98125c8</td>\n",
       "      <td>b00371d3</td>\n",
       "      <td>65dcab89</td>\n",
       "      <td>NaN</td>\n",
       "      <td>NaN</td>\n",
       "      <td>b5d8f15a</td>\n",
       "      <td>c1d12c8e</td>\n",
       "      <td>m</td>\n",
       "      <td>False</td>\n",
       "      <td>1.0</td>\n",
       "    </tr>\n",
       "    <tr>\n",
       "      <th>2</th>\n",
       "      <td>0</td>\n",
       "      <td>9915ffee</td>\n",
       "      <td>dc24b79b</td>\n",
       "      <td>8b9c34de</td>\n",
       "      <td>7ce4e1a3</td>\n",
       "      <td>4a601fd1</td>\n",
       "      <td>6bc0e29c</td>\n",
       "      <td>59638795</td>\n",
       "      <td>e2538fca</td>\n",
       "      <td>IAB22-2</td>\n",
       "      <td>...</td>\n",
       "      <td>NaN</td>\n",
       "      <td>b6910b48</td>\n",
       "      <td>65dcab89</td>\n",
       "      <td>50.0</td>\n",
       "      <td>320.0</td>\n",
       "      <td>4490bb8c</td>\n",
       "      <td>c1d12c8e</td>\n",
       "      <td>NaN</td>\n",
       "      <td>False</td>\n",
       "      <td>1.0</td>\n",
       "    </tr>\n",
       "    <tr>\n",
       "      <th>3</th>\n",
       "      <td>0</td>\n",
       "      <td>11b7af3d</td>\n",
       "      <td>ac0f362d</td>\n",
       "      <td>2fb5fd3f</td>\n",
       "      <td>cb80abab</td>\n",
       "      <td>b228749f</td>\n",
       "      <td>6bc0e29c</td>\n",
       "      <td>59638795</td>\n",
       "      <td>31b31f57</td>\n",
       "      <td>IAB22</td>\n",
       "      <td>...</td>\n",
       "      <td>NaN</td>\n",
       "      <td>b6910b48</td>\n",
       "      <td>65dcab89</td>\n",
       "      <td>50.0</td>\n",
       "      <td>320.0</td>\n",
       "      <td>e08693f0</td>\n",
       "      <td>6324b367</td>\n",
       "      <td>NaN</td>\n",
       "      <td>False</td>\n",
       "      <td>1.0</td>\n",
       "    </tr>\n",
       "    <tr>\n",
       "      <th>4</th>\n",
       "      <td>0</td>\n",
       "      <td>c2e4f717</td>\n",
       "      <td>3074db21</td>\n",
       "      <td>fa245e46</td>\n",
       "      <td>62c903fc</td>\n",
       "      <td>4fc27436</td>\n",
       "      <td>6bc0e29c</td>\n",
       "      <td>59638795</td>\n",
       "      <td>e2538fca</td>\n",
       "      <td>IAB20-6</td>\n",
       "      <td>...</td>\n",
       "      <td>NaN</td>\n",
       "      <td>b6910b48</td>\n",
       "      <td>43c867fd</td>\n",
       "      <td>480.0</td>\n",
       "      <td>320.0</td>\n",
       "      <td>502762e3</td>\n",
       "      <td>c1d12c8e</td>\n",
       "      <td>NaN</td>\n",
       "      <td>True</td>\n",
       "      <td>1.0</td>\n",
       "    </tr>\n",
       "  </tbody>\n",
       "</table>\n",
       "<p>5 rows × 52 columns</p>\n",
       "</div>"
      ],
      "text/plain": [
       "   Label action_categorical_0 action_categorical_1 action_categorical_2  \\\n",
       "0  0      c2e4f717             e709bbc0             5f2b3eb9              \n",
       "1  0      9915ffee             dc24b79b             d2f34a41              \n",
       "2  0      9915ffee             dc24b79b             8b9c34de              \n",
       "3  0      11b7af3d             ac0f362d             2fb5fd3f              \n",
       "4  0      c2e4f717             3074db21             fa245e46              \n",
       "\n",
       "  action_categorical_3 action_categorical_4 action_categorical_5  \\\n",
       "0  e7329a92             3b148f0b             6bc0e29c              \n",
       "1  7ce4e1a3             b55cb32e             6bc0e29c              \n",
       "2  7ce4e1a3             4a601fd1             6bc0e29c              \n",
       "3  cb80abab             b228749f             6bc0e29c              \n",
       "4  62c903fc             4fc27436             6bc0e29c              \n",
       "\n",
       "  action_categorical_6 action_categorical_7 action_list_0       ...        \\\n",
       "0  59638795             e2538fca             IAB20-6            ...         \n",
       "1  59638795             e2538fca             IAB22-2            ...         \n",
       "2  59638795             e2538fca             IAB22-2            ...         \n",
       "3  59638795             31b31f57             IAB22              ...         \n",
       "4  59638795             e2538fca             IAB20-6            ...         \n",
       "\n",
       "  creative_categorical_7 creative_categorical_8  creative_categorical_9  \\\n",
       "0  NaN                    b6910b48               65dcab89                 \n",
       "1  b98125c8               b00371d3               65dcab89                 \n",
       "2  NaN                    b6910b48               65dcab89                 \n",
       "3  NaN                    b6910b48               65dcab89                 \n",
       "4  NaN                    b6910b48               43c867fd                 \n",
       "\n",
       "   creative_height creative_width device_id device_id_type gender has_video  \\\n",
       "0  50.0             320.0          19503756  6324b367       m      False      \n",
       "1 NaN              NaN             b5d8f15a  c1d12c8e       m      False      \n",
       "2  50.0             320.0          4490bb8c  c1d12c8e       NaN    False      \n",
       "3  50.0             320.0          e08693f0  6324b367       NaN    False      \n",
       "4  480.0            320.0          502762e3  c1d12c8e       NaN    True       \n",
       "\n",
       "  timezone_offset  \n",
       "0  1.0             \n",
       "1  1.0             \n",
       "2  1.0             \n",
       "3  1.0             \n",
       "4  1.0             \n",
       "\n",
       "[5 rows x 52 columns]"
      ]
     },
     "execution_count": 9,
     "metadata": {},
     "output_type": "execute_result"
    }
   ],
   "source": [
    "df.head()"
   ]
  },
  {
   "cell_type": "code",
   "execution_count": 10,
   "metadata": {},
   "outputs": [
    {
     "name": "stdout",
     "output_type": "stream",
     "text": [
      "<class 'pandas.core.frame.DataFrame'>\n",
      "RangeIndex: 8644592 entries, 0 to 8644591\n",
      "Data columns (total 52 columns):\n",
      "Label                      int64\n",
      "action_categorical_0       object\n",
      "action_categorical_1       object\n",
      "action_categorical_2       object\n",
      "action_categorical_3       object\n",
      "action_categorical_4       object\n",
      "action_categorical_5       object\n",
      "action_categorical_6       object\n",
      "action_categorical_7       object\n",
      "action_list_0              object\n",
      "action_list_1              object\n",
      "action_list_2              object\n",
      "auction_age                float64\n",
      "auction_bidfloor           float64\n",
      "auction_boolean_0          object\n",
      "auction_boolean_1          object\n",
      "auction_boolean_2          object\n",
      "auction_categorical_0      object\n",
      "auction_categorical_1      object\n",
      "auction_categorical_10     object\n",
      "auction_categorical_11     object\n",
      "auction_categorical_12     object\n",
      "auction_categorical_2      object\n",
      "auction_categorical_3      object\n",
      "auction_categorical_4      object\n",
      "auction_categorical_5      object\n",
      "auction_categorical_6      object\n",
      "auction_categorical_7      object\n",
      "auction_categorical_8      object\n",
      "auction_categorical_9      object\n",
      "auction_list_0             object\n",
      "auction_time               float64\n",
      "creative_categorical_0     object\n",
      "creative_categorical_1     object\n",
      "creative_categorical_10    object\n",
      "creative_categorical_11    object\n",
      "creative_categorical_12    object\n",
      "creative_categorical_2     object\n",
      "creative_categorical_3     object\n",
      "creative_categorical_4     object\n",
      "creative_categorical_5     object\n",
      "creative_categorical_6     object\n",
      "creative_categorical_7     object\n",
      "creative_categorical_8     object\n",
      "creative_categorical_9     object\n",
      "creative_height            float64\n",
      "creative_width             float64\n",
      "device_id                  object\n",
      "device_id_type             object\n",
      "gender                     object\n",
      "has_video                  bool\n",
      "timezone_offset            float64\n",
      "dtypes: bool(1), float64(6), int64(1), object(44)\n",
      "memory usage: 3.3+ GB\n"
     ]
    }
   ],
   "source": [
    "df.info()"
   ]
  },
  {
   "cell_type": "code",
   "execution_count": 11,
   "metadata": {
    "scrolled": false
   },
   "outputs": [
    {
     "data": {
      "image/png": "[encoded data removed]",
      "text/plain": [
       "<Figure size 432x288 with 1 Axes>"
      ]
     },
     "metadata": {},
     "output_type": "display_data"
    }
   ],
   "source": [
    "# Check balanceo de clases\n",
    "plot_target_prop(df.Label)"
   ]
  },
  {
   "cell_type": "markdown",
   "metadata": {},
   "source": [
    "### Sampling del Dataset"
   ]
  },
  {
   "cell_type": "code",
   "execution_count": 12,
   "metadata": {},
   "outputs": [],
   "source": [
    "# Obtener la proporción de las clases en el Label\n",
    "prop = df.Label.value_counts(normalize=True)"
   ]
  },
  {
   "cell_type": "code",
   "execution_count": 13,
   "metadata": {},
   "outputs": [],
   "source": [
    "# Obtener 100000 samples manteniendo el balance de cada clase\n",
    "df0 = df[df.Label==0].sample(int(prop[0]*100000))\n",
    "df1 = df[df.Label==1].sample(int(prop[1]*100000))"
   ]
  },
  {
   "cell_type": "code",
   "execution_count": 14,
   "metadata": {},
   "outputs": [],
   "source": [
    "# Reemplazo el df original con los dos df de samples\n",
    "df = pd.concat([df0,df1], axis=0)"
   ]
  },
  {
   "cell_type": "code",
   "execution_count": 15,
   "metadata": {},
   "outputs": [],
   "source": [
    "# Elimino los df de samples\n",
    "del df0\n",
    "del df1"
   ]
  },
  {
   "cell_type": "code",
   "execution_count": 16,
   "metadata": {},
   "outputs": [
    {
     "data": {
      "image/png": "[encoded data removed]",
      "text/plain": [
       "<Figure size 432x288 with 1 Axes>"
      ]
     },
     "metadata": {},
     "output_type": "display_data"
    }
   ],
   "source": [
    "# Check balances\n",
    "plot_target_prop(df.Label)"
   ]
  },
  {
   "cell_type": "markdown",
   "metadata": {},
   "source": [
    "### Saving Dataset"
   ]
  },
  {
   "cell_type": "code",
   "execution_count": 17,
   "metadata": {},
   "outputs": [],
   "source": [
    "df.to_csv('data.csv')"
   ]
  }
 ],
 "metadata": {
  "kernelspec": {
   "display_name": "Python 3",
   "language": "python",
   "name": "python3"
  },
  "language_info": {
   "codemirror_mode": {
    "name": "ipython",
    "version": 3
   },
   "file_extension": ".py",
   "mimetype": "text/x-python",
   "name": "python",
   "nbconvert_exporter": "python",
   "pygments_lexer": "ipython3",
   "version": "3.6.5"
  }
 },
 "nbformat": 4,
 "nbformat_minor": 2
}
