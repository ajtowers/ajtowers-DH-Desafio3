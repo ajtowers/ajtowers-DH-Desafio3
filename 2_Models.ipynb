{
 "cells": [
  {
   "cell_type": "code",
   "execution_count": 56,
   "metadata": {},
   "outputs": [],
   "source": [
    "from IPython.core.interactiveshell import InteractiveShell\n",
    "InteractiveShell.ast_node_interactivity = \"all\"\n",
    "import warnings\n",
    "warnings.filterwarnings('ignore')\n",
    "RS = 18"
   ]
  },
  {
   "cell_type": "code",
   "execution_count": 62,
   "metadata": {},
   "outputs": [],
   "source": [
    "import pandas as pd\n",
    "pd.set_option('display.max_colwidth', -1)\n",
    "import numpy as np"
   ]
  },
  {
   "cell_type": "code",
   "execution_count": 3,
   "metadata": {},
   "outputs": [],
   "source": [
    "import matplotlib.pyplot as plt\n",
    "%matplotlib inline\n",
    "import seaborn as sns\n",
    "sns.set(style = \"whitegrid\")\n",
    "import scikitplot.metrics as skpm"
   ]
  },
  {
   "cell_type": "code",
   "execution_count": 95,
   "metadata": {},
   "outputs": [],
   "source": [
    "from imblearn.under_sampling import EditedNearestNeighbours\n",
    "from imblearn.under_sampling import AllKNN\n",
    "from imblearn.under_sampling import OneSidedSelection\n",
    "from imblearn.over_sampling import SMOTE\n",
    "from imblearn.over_sampling import BorderlineSMOTE # focus en las samples cerca de la frontera\n",
    "from imblearn.combine import SMOTEENN, SMOTETomek\n",
    "from imblearn.pipeline import Pipeline\n",
    "\n",
    "from sklearn.feature_selection import VarianceThreshold # low or 0 variance\n",
    "from sklearn.feature_selection import SelectKBest       # univariate, based on function\n",
    "from sklearn.feature_selection import SelectPercentile \n",
    "from sklearn.feature_selection import chi2, f_classif   # use with SelectKBest y SelectPercentile\n",
    "from sklearn.feature_selection import RFECV             # recursive method\n",
    "\n",
    "from sklearn.decomposition import PCA\n",
    "from sklearn.linear_model import LogisticRegression, LinearRegression\n",
    "from sklearn.naive_bayes import GaussianNB\n",
    "from sklearn.svm import SVC\n",
    "\n",
    "from sklearn.metrics import confusion_matrix, roc_auc_score, roc_curve, auc\n",
    "from sklearn.model_selection import train_test_split, GridSearchCV\n",
    "\n",
    "from sklearn.base import TransformerMixin, BaseEstimator\n",
    "#from sklearn.pipeline import Pipeline, FeatureUnion, make_pipeline, make_union\n",
    "from sklearn.compose import ColumnTransformer\n",
    "#from custom_transformers import *\n",
    "\n",
    "from sklearn.preprocessing import OneHotEncoder, MinMaxScaler, StandardScaler\n",
    "from sklearn.preprocessing import FunctionTransformer, RobustScaler\n",
    "from sklearn.impute import SimpleImputer"
   ]
  },
  {
   "cell_type": "markdown",
   "metadata": {},
   "source": [
    "## Funciones"
   ]
  },
  {
   "cell_type": "code",
   "execution_count": 5,
   "metadata": {},
   "outputs": [],
   "source": [
    "def plot_target_prop(y, tit='y'):\n",
    "    \"\"\"\n",
    "    Input: vector y de respuestas\n",
    "    Return: plot con la distribucion de las clases\n",
    "    \"\"\"\n",
    "    vc = y.value_counts(normalize=True)\n",
    "    y.value_counts().plot(kind='bar', title=f'{tit} - Proporción de Clases:\\n0:{vc[0]:.3f} / 1:{vc[1]:.3f}')\n",
    "    plt.tight_layout\n",
    "    plt.show()\n",
    "    return "
   ]
  },
  {
   "cell_type": "markdown",
   "metadata": {},
   "source": [
    "## Custom Transformers"
   ]
  },
  {
   "cell_type": "code",
   "execution_count": 6,
   "metadata": {},
   "outputs": [],
   "source": [
    "class DatetimeFromUnixTimestamp(BaseEstimator, TransformerMixin):\n",
    "    \"\"\"\n",
    "    Return a df from a df with columns with unix timestamps as string\n",
    "    \"\"\"\n",
    "    \n",
    "    def fit(self, X, y=None):\n",
    "        # stateless transformer\n",
    "        return self\n",
    "\n",
    "    def transform(self, X):\n",
    "        # assumes X is a DataFrame\n",
    "        Xdate = X.apply(lambda s: pd.to_datetime(s, unit='s'))\n",
    "        return Xdate"
   ]
  },
  {
   "cell_type": "code",
   "execution_count": 7,
   "metadata": {},
   "outputs": [],
   "source": [
    "class SparseToDense(BaseEstimator, TransformerMixin):\n",
    "    \"\"\"\n",
    "    Return a dense matrix from a sparse matrix\n",
    "    \"\"\"\n",
    "    \n",
    "    def fit(self, X, y=None):\n",
    "        # stateless transformer\n",
    "        return self\n",
    "\n",
    "    def transform(self, X):\n",
    "        # assumes X is a sparse matrix\n",
    "        Xdate = X.todense()\n",
    "        return Xdate"
   ]
  },
  {
   "cell_type": "code",
   "execution_count": 8,
   "metadata": {},
   "outputs": [],
   "source": [
    "class DateEncoder(BaseEstimator, TransformerMixin):\n",
    "\n",
    "    def fit(self, X, y=None):\n",
    "        return self\n",
    "\n",
    "    def transform(self, X):\n",
    "        dfs = []\n",
    "        self.column_names = []\n",
    "        for column in X:\n",
    "            dt = X[column].dt\n",
    "            # Assign custom column names\n",
    "            newcolumnnames = [column+'_'+col for col in ['dia', 'hora']]\n",
    "            df_dt = pd.concat([dt.dayofweek, dt.hour], axis=1)\n",
    "            # Append DF to list to assemble list of DFs\n",
    "            dfs.append(df_dt)\n",
    "            # Append single DF's column names to blank list\n",
    "            self.column_names.append(newcolumnnames)\n",
    "        # Horizontally concatenate list of DFs\n",
    "        dfs_dt = pd.concat(dfs, axis=1)\n",
    "        dfs_dt.columns = self.column_names\n",
    "        return dfs_dt\n",
    "\n",
    "    #def get_feature_names(self):\n",
    "        # Flatten list of column names\n",
    "        #self.column_names = [c for sublist in self.column_names for c in sublist]\n",
    "        #return self.column_names"
   ]
  },
  {
   "cell_type": "markdown",
   "metadata": {},
   "source": [
    "### Lectura de Dataset"
   ]
  },
  {
   "cell_type": "code",
   "execution_count": 9,
   "metadata": {},
   "outputs": [],
   "source": [
    "X = pd.read_csv('data.csv', index_col=0)"
   ]
  },
  {
   "cell_type": "code",
   "execution_count": 10,
   "metadata": {},
   "outputs": [
    {
     "data": {
      "text/html": [
       "<div>\n",
       "<style scoped>\n",
       "    .dataframe tbody tr th:only-of-type {\n",
       "        vertical-align: middle;\n",
       "    }\n",
       "\n",
       "    .dataframe tbody tr th {\n",
       "        vertical-align: top;\n",
       "    }\n",
       "\n",
       "    .dataframe thead th {\n",
       "        text-align: right;\n",
       "    }\n",
       "</style>\n",
       "<table border=\"1\" class=\"dataframe\">\n",
       "  <thead>\n",
       "    <tr style=\"text-align: right;\">\n",
       "      <th></th>\n",
       "      <th>Label</th>\n",
       "      <th>action_categorical_0</th>\n",
       "      <th>action_categorical_1</th>\n",
       "      <th>action_categorical_2</th>\n",
       "      <th>action_categorical_3</th>\n",
       "      <th>action_categorical_4</th>\n",
       "      <th>action_categorical_5</th>\n",
       "      <th>action_categorical_6</th>\n",
       "      <th>action_categorical_7</th>\n",
       "      <th>action_list_0</th>\n",
       "      <th>...</th>\n",
       "      <th>creative_categorical_7</th>\n",
       "      <th>creative_categorical_8</th>\n",
       "      <th>creative_categorical_9</th>\n",
       "      <th>creative_height</th>\n",
       "      <th>creative_width</th>\n",
       "      <th>device_id</th>\n",
       "      <th>device_id_type</th>\n",
       "      <th>gender</th>\n",
       "      <th>has_video</th>\n",
       "      <th>timezone_offset</th>\n",
       "    </tr>\n",
       "  </thead>\n",
       "  <tbody>\n",
       "    <tr>\n",
       "      <th>501207</th>\n",
       "      <td>0</td>\n",
       "      <td>9915ffee</td>\n",
       "      <td>dc24b79b</td>\n",
       "      <td>7c0ac8b2</td>\n",
       "      <td>7ce4e1a3</td>\n",
       "      <td>c96ff6e9</td>\n",
       "      <td>6bc0e29c</td>\n",
       "      <td>59638795</td>\n",
       "      <td>e2538fca</td>\n",
       "      <td>IAB22-2</td>\n",
       "      <td>...</td>\n",
       "      <td>NaN</td>\n",
       "      <td>b6910b48</td>\n",
       "      <td>65dcab89</td>\n",
       "      <td>50.0</td>\n",
       "      <td>320.0</td>\n",
       "      <td>f0fa3c6a</td>\n",
       "      <td>c1d12c8e</td>\n",
       "      <td>NaN</td>\n",
       "      <td>False</td>\n",
       "      <td>1.0</td>\n",
       "    </tr>\n",
       "    <tr>\n",
       "      <th>4161173</th>\n",
       "      <td>0</td>\n",
       "      <td>9915ffee</td>\n",
       "      <td>d9eb38d8</td>\n",
       "      <td>9a115291</td>\n",
       "      <td>9ebdf82c</td>\n",
       "      <td>39fd7da2</td>\n",
       "      <td>6bc0e29c</td>\n",
       "      <td>59638795</td>\n",
       "      <td>31b31f57</td>\n",
       "      <td>IAB22-2</td>\n",
       "      <td>...</td>\n",
       "      <td>NaN</td>\n",
       "      <td>b6910b48</td>\n",
       "      <td>65dcab89</td>\n",
       "      <td>50.0</td>\n",
       "      <td>320.0</td>\n",
       "      <td>bfeb7f99</td>\n",
       "      <td>6324b367</td>\n",
       "      <td>m</td>\n",
       "      <td>False</td>\n",
       "      <td>1.0</td>\n",
       "    </tr>\n",
       "    <tr>\n",
       "      <th>7192211</th>\n",
       "      <td>0</td>\n",
       "      <td>c2e4f717</td>\n",
       "      <td>3074db21</td>\n",
       "      <td>1ae7a73f</td>\n",
       "      <td>62c903fc</td>\n",
       "      <td>9715f8a7</td>\n",
       "      <td>6bc0e29c</td>\n",
       "      <td>59638795</td>\n",
       "      <td>e2538fca</td>\n",
       "      <td>IAB20-6</td>\n",
       "      <td>...</td>\n",
       "      <td>NaN</td>\n",
       "      <td>b6910b48</td>\n",
       "      <td>65dcab89</td>\n",
       "      <td>50.0</td>\n",
       "      <td>320.0</td>\n",
       "      <td>a80b39cc</td>\n",
       "      <td>c1d12c8e</td>\n",
       "      <td>NaN</td>\n",
       "      <td>False</td>\n",
       "      <td>1.0</td>\n",
       "    </tr>\n",
       "    <tr>\n",
       "      <th>2031957</th>\n",
       "      <td>0</td>\n",
       "      <td>c2e4f717</td>\n",
       "      <td>3074db21</td>\n",
       "      <td>1ae7a73f</td>\n",
       "      <td>62c903fc</td>\n",
       "      <td>526e989d</td>\n",
       "      <td>6bc0e29c</td>\n",
       "      <td>59638795</td>\n",
       "      <td>e2538fca</td>\n",
       "      <td>IAB20-6</td>\n",
       "      <td>...</td>\n",
       "      <td>NaN</td>\n",
       "      <td>b6910b48</td>\n",
       "      <td>65dcab89</td>\n",
       "      <td>50.0</td>\n",
       "      <td>320.0</td>\n",
       "      <td>18afe0ec</td>\n",
       "      <td>c1d12c8e</td>\n",
       "      <td>m</td>\n",
       "      <td>False</td>\n",
       "      <td>1.0</td>\n",
       "    </tr>\n",
       "    <tr>\n",
       "      <th>2062667</th>\n",
       "      <td>0</td>\n",
       "      <td>c202ab08</td>\n",
       "      <td>6d1ca31b</td>\n",
       "      <td>75f68f1d</td>\n",
       "      <td>93071c6b</td>\n",
       "      <td>4db148d9</td>\n",
       "      <td>6bc0e29c</td>\n",
       "      <td>59638795</td>\n",
       "      <td>e2538fca</td>\n",
       "      <td>IAB8-9</td>\n",
       "      <td>...</td>\n",
       "      <td>NaN</td>\n",
       "      <td>b6910b48</td>\n",
       "      <td>65dcab89</td>\n",
       "      <td>50.0</td>\n",
       "      <td>320.0</td>\n",
       "      <td>f42d4474</td>\n",
       "      <td>c1d12c8e</td>\n",
       "      <td>m</td>\n",
       "      <td>False</td>\n",
       "      <td>1.0</td>\n",
       "    </tr>\n",
       "  </tbody>\n",
       "</table>\n",
       "<p>5 rows × 52 columns</p>\n",
       "</div>"
      ],
      "text/plain": [
       "         Label action_categorical_0 action_categorical_1 action_categorical_2  \\\n",
       "501207   0      9915ffee             dc24b79b             7c0ac8b2              \n",
       "4161173  0      9915ffee             d9eb38d8             9a115291              \n",
       "7192211  0      c2e4f717             3074db21             1ae7a73f              \n",
       "2031957  0      c2e4f717             3074db21             1ae7a73f              \n",
       "2062667  0      c202ab08             6d1ca31b             75f68f1d              \n",
       "\n",
       "        action_categorical_3 action_categorical_4 action_categorical_5  \\\n",
       "501207   7ce4e1a3             c96ff6e9             6bc0e29c              \n",
       "4161173  9ebdf82c             39fd7da2             6bc0e29c              \n",
       "7192211  62c903fc             9715f8a7             6bc0e29c              \n",
       "2031957  62c903fc             526e989d             6bc0e29c              \n",
       "2062667  93071c6b             4db148d9             6bc0e29c              \n",
       "\n",
       "        action_categorical_6 action_categorical_7 action_list_0  \\\n",
       "501207   59638795             e2538fca             IAB22-2        \n",
       "4161173  59638795             31b31f57             IAB22-2        \n",
       "7192211  59638795             e2538fca             IAB20-6        \n",
       "2031957  59638795             e2538fca             IAB20-6        \n",
       "2062667  59638795             e2538fca             IAB8-9         \n",
       "\n",
       "              ...       creative_categorical_7 creative_categorical_8  \\\n",
       "501207        ...        NaN                    b6910b48                \n",
       "4161173       ...        NaN                    b6910b48                \n",
       "7192211       ...        NaN                    b6910b48                \n",
       "2031957       ...        NaN                    b6910b48                \n",
       "2062667       ...        NaN                    b6910b48                \n",
       "\n",
       "         creative_categorical_9  creative_height creative_width device_id  \\\n",
       "501207   65dcab89                50.0             320.0          f0fa3c6a   \n",
       "4161173  65dcab89                50.0             320.0          bfeb7f99   \n",
       "7192211  65dcab89                50.0             320.0          a80b39cc   \n",
       "2031957  65dcab89                50.0             320.0          18afe0ec   \n",
       "2062667  65dcab89                50.0             320.0          f42d4474   \n",
       "\n",
       "        device_id_type gender has_video timezone_offset  \n",
       "501207   c1d12c8e       NaN    False     1.0             \n",
       "4161173  6324b367       m      False     1.0             \n",
       "7192211  c1d12c8e       NaN    False     1.0             \n",
       "2031957  c1d12c8e       m      False     1.0             \n",
       "2062667  c1d12c8e       m      False     1.0             \n",
       "\n",
       "[5 rows x 52 columns]"
      ]
     },
     "execution_count": 10,
     "metadata": {},
     "output_type": "execute_result"
    }
   ],
   "source": [
    "X.head()"
   ]
  },
  {
   "cell_type": "markdown",
   "metadata": {},
   "source": [
    "### Feature Engineering"
   ]
  },
  {
   "cell_type": "markdown",
   "metadata": {},
   "source": [
    "#### Eliminar Features"
   ]
  },
  {
   "cell_type": "code",
   "execution_count": 11,
   "metadata": {},
   "outputs": [],
   "source": [
    "# features con listas\n",
    "X.drop(['action_list_1', 'action_list_2', 'auction_list_0'], axis=1, inplace=True)\n",
    "# features con excesivos nans\n",
    "X.drop(['gender'], axis=1, inplace=True)"
   ]
  },
  {
   "cell_type": "markdown",
   "metadata": {},
   "source": [
    "#### Modificar Features"
   ]
  },
  {
   "cell_type": "code",
   "execution_count": 12,
   "metadata": {},
   "outputs": [],
   "source": [
    "# auction_age: Reemplazar valores de edad  <10 y >80 por np.nan\n",
    "X.loc[(X.auction_age < 10) | (X.auction_age > 80), ['auction_age']] = np.nan"
   ]
  },
  {
   "cell_type": "markdown",
   "metadata": {},
   "source": [
    "#### Separar features categóricas de numéricas  \n",
    "Incluye una separación entre categóricas con alta cardinalidad, para aquellas que tienen >20 clases diferentes"
   ]
  },
  {
   "cell_type": "code",
   "execution_count": 13,
   "metadata": {},
   "outputs": [],
   "source": [
    "num_cols = []\n",
    "cat_cols = []\n",
    "hccat_cols = []\n",
    "bool_cols = []\n",
    "\n",
    "for col_name in X.columns:\n",
    "    if (X[col_name].dtype == 'object'):      \n",
    "        X[col_name] = X[col_name].astype('str')\n",
    "        if len(X[col_name].unique()) > 20:\n",
    "            hccat_cols.append(col_name)\n",
    "        else:\n",
    "            cat_cols.append(col_name)\n",
    "    elif (X[col_name].dtype == 'bool'):\n",
    "            X[col_name] = X[col_name].astype('int')\n",
    "            bool_cols.append(col_name)\n",
    "    else:\n",
    "        num_cols.append(col_name)"
   ]
  },
  {
   "cell_type": "code",
   "execution_count": 14,
   "metadata": {},
   "outputs": [
    {
     "data": {
      "text/plain": [
       "True"
      ]
     },
     "execution_count": 14,
     "metadata": {},
     "output_type": "execute_result"
    }
   ],
   "source": [
    "# Check que se tomaron todas las columnas\n",
    "len(num_cols) + len(cat_cols) + len(hccat_cols) + len(bool_cols) == X.shape[1]"
   ]
  },
  {
   "cell_type": "markdown",
   "metadata": {},
   "source": [
    "#### Reorganizar las listas de cols"
   ]
  },
  {
   "cell_type": "code",
   "execution_count": 15,
   "metadata": {},
   "outputs": [
    {
     "data": {
      "text/plain": [
       "True"
      ]
     },
     "execution_count": 15,
     "metadata": {},
     "output_type": "execute_result"
    },
    {
     "data": {
      "text/plain": [
       "True"
      ]
     },
     "execution_count": 15,
     "metadata": {},
     "output_type": "execute_result"
    },
    {
     "data": {
      "text/plain": [
       "False"
      ]
     },
     "execution_count": 15,
     "metadata": {},
     "output_type": "execute_result"
    },
    {
     "data": {
      "text/plain": [
       "False"
      ]
     },
     "execution_count": 15,
     "metadata": {},
     "output_type": "execute_result"
    }
   ],
   "source": [
    "'auction_time' in num_cols\n",
    "'Label' in num_cols\n",
    "date_cols = ['auction_time']\n",
    "num_set  = set(num_cols)\n",
    "date_set = set(date_cols)\n",
    "label_set = set(['Label'])\n",
    "num_cols = list(num_set - date_set - label_set)\n",
    "'auction_time' in num_cols\n",
    "'Label' in num_cols"
   ]
  },
  {
   "cell_type": "markdown",
   "metadata": {},
   "source": [
    "## Separar train - valid - test"
   ]
  },
  {
   "cell_type": "code",
   "execution_count": 16,
   "metadata": {},
   "outputs": [],
   "source": [
    "# Shuffle dataset\n",
    "X = X.sample(frac=1, random_state=RS)"
   ]
  },
  {
   "cell_type": "code",
   "execution_count": 17,
   "metadata": {},
   "outputs": [],
   "source": [
    "#X = X.sample(100000)"
   ]
  },
  {
   "cell_type": "code",
   "execution_count": 18,
   "metadata": {},
   "outputs": [],
   "source": [
    "# Separar la matriz de features del vector de labels\n",
    "y = X.Label\n",
    "X = X.drop('Label', axis=1) "
   ]
  },
  {
   "cell_type": "code",
   "execution_count": 19,
   "metadata": {},
   "outputs": [],
   "source": [
    "# Split manteniendo balance de clases en train y test\n",
    "X_train, X_test, y_train, y_test = train_test_split(X, y, stratify=y, random_state=RS, test_size=0.10)"
   ]
  },
  {
   "cell_type": "code",
   "execution_count": 67,
   "metadata": {},
   "outputs": [
    {
     "data": {
      "text/plain": [
       "(80999, 47)"
      ]
     },
     "execution_count": 67,
     "metadata": {},
     "output_type": "execute_result"
    },
    {
     "data": {
      "text/plain": [
       "(10000, 47)"
      ]
     },
     "execution_count": 67,
     "metadata": {},
     "output_type": "execute_result"
    }
   ],
   "source": [
    "X_train.shape\n",
    "X_test.shape"
   ]
  },
  {
   "cell_type": "code",
   "execution_count": 21,
   "metadata": {},
   "outputs": [
    {
     "data": {
      "image/png": "[encoded data removed]",
      "text/plain": [
       "<Figure size 432x288 with 1 Axes>"
      ]
     },
     "metadata": {},
     "output_type": "display_data"
    },
    {
     "data": {
      "image/png": "[encoded data removed]",
      "text/plain": [
       "<Figure size 432x288 with 1 Axes>"
      ]
     },
     "metadata": {},
     "output_type": "display_data"
    }
   ],
   "source": [
    "# Check distribución de clases entre train y test sets\n",
    "plot_target_prop(y_train, tit='y_train')\n",
    "plot_target_prop(y_test, tit='y_test')"
   ]
  },
  {
   "cell_type": "markdown",
   "metadata": {},
   "source": [
    "#### Nuevo split train-test para validación"
   ]
  },
  {
   "cell_type": "code",
   "execution_count": 25,
   "metadata": {},
   "outputs": [],
   "source": [
    "# Split manteniendo balance de clases en train y test para validacion\n",
    "X_train, X_val, y_train, y_val = train_test_split(X_train, y_train, stratify=y_train, random_state=RS, test_size=0.10)"
   ]
  },
  {
   "cell_type": "code",
   "execution_count": 68,
   "metadata": {},
   "outputs": [
    {
     "data": {
      "text/plain": [
       "(80999, 47)"
      ]
     },
     "execution_count": 68,
     "metadata": {},
     "output_type": "execute_result"
    },
    {
     "data": {
      "text/plain": [
       "(9000, 47)"
      ]
     },
     "execution_count": 68,
     "metadata": {},
     "output_type": "execute_result"
    }
   ],
   "source": [
    "X_train.shape\n",
    "X_val.shape"
   ]
  },
  {
   "cell_type": "code",
   "execution_count": 28,
   "metadata": {},
   "outputs": [
    {
     "data": {
      "image/png": "[encoded data removed]",
      "text/plain": [
       "<Figure size 432x288 with 1 Axes>"
      ]
     },
     "metadata": {},
     "output_type": "display_data"
    },
    {
     "data": {
      "image/png": "[encoded data removed]",
      "text/plain": [
       "<Figure size 432x288 with 1 Axes>"
      ]
     },
     "metadata": {},
     "output_type": "display_data"
    }
   ],
   "source": [
    "# Check distribución de clases entre train y test en validacion_\n",
    "plot_target_prop(y_train, tit='y_train')\n",
    "plot_target_prop(y_val, tit='y_test')"
   ]
  },
  {
   "cell_type": "markdown",
   "metadata": {},
   "source": [
    "## Pipeline"
   ]
  },
  {
   "cell_type": "code",
   "execution_count": 29,
   "metadata": {},
   "outputs": [],
   "source": [
    "preprocessing_nums = Pipeline([\n",
    "    ('fillna',  SimpleImputer(strategy='median')),\n",
    "    ('scaler',  RobustScaler())\n",
    "])\n",
    "preprocessing_cats = Pipeline([\n",
    "    ('fillna',  SimpleImputer(missing_values='nan', strategy='most_frequent')),\n",
    "    ('dummy',   OneHotEncoder(handle_unknown='ignore'))\n",
    "])\n",
    "preprocessing_dates = Pipeline([\n",
    "    ('fromunix',  DatetimeFromUnixTimestamp()),\n",
    "    ('encoder',   DateEncoder()),\n",
    "    ('scaler',    RobustScaler())\n",
    "])\n",
    "\n",
    "preprocessing = ColumnTransformer([\n",
    "    ('nums',  preprocessing_nums,  num_cols),\n",
    "    ('cats',  preprocessing_cats,  cat_cols),\n",
    "    ('dates', preprocessing_dates, date_cols)\n",
    "],\n",
    "    remainder='drop')"
   ]
  },
  {
   "cell_type": "code",
   "execution_count": 36,
   "metadata": {},
   "outputs": [],
   "source": [
    "pipe = Pipeline([\n",
    "    ('preprocessing', preprocessing),\n",
    "    #('todense', SparseToDense()),\n",
    "    ('resamp', SMOTEENN()),\n",
    "    #('reducedim', PCA()),         \n",
    "    ('featselect', RFECV(estimator=LinearRegression())),\n",
    "    ('model', LogisticRegression(random_state=RS))], \n",
    "    memory='cachedir' )"
   ]
  },
  {
   "cell_type": "code",
   "execution_count": 38,
   "metadata": {},
   "outputs": [],
   "source": [
    "params = [{\n",
    "            #'preprocessing__nums__scaler': [StandardScaler(), RobustScaler()],\n",
    "            'resamp': [None, SMOTEENN(random_state=RS)],#, SMOTETomek(), BorderlineSMOTE(), AllKNN()],\n",
    "            #'reducedim': [None, PCA(random_state=RS)], # no admite sparse\n",
    "            #'reducedim__n_components': [10, 25, 50],\n",
    "            'featselect': [None, RFECV(estimator=LinearRegression())],#, SelectPercentile(percentile=25)],\n",
    "            'model': [LogisticRegression(class_weight='balanced', random_state=RS)],\n",
    "            'model__C': [1, 100, 10000],\n",
    "          },\n",
    "    \n",
    "          #{\n",
    "          #'model': [GaussianNB()], # no admite sparse\n",
    "          #'reducedim': [None, PCA(5), PCA(10)],\n",
    "          #'resamp': [SMOTEENN(), SMOTETomek()],\n",
    "          #'preprocessing__nums__scaler': [StandardScaler(), MinMaxScaler(), RobustScaler()],\n",
    "          #},\n",
    "    \n",
    "          #{\n",
    "          #'model': [SVC(class_weight='balanced', kernel='rbf')],\n",
    "          #'model__C': [1e2,1e3,1e4],\n",
    "          #'model__gamma': [1e-4],\n",
    "          #'reducedim': [None, PCA(50)],\n",
    "          #'resamp': [SMOTEENN(), SMOTETomek()],\n",
    "          #'preprocessing__nums__scaler': [StandardScaler(), MinMaxScaler(), RobustScaler()],\n",
    "          #},\n",
    "\n",
    "          #{\n",
    "          #'model': [SVC(class_weight='balanced', kernel='linear')],\n",
    "          #'model__C': [1e4],\n",
    "          #'reducedim': [None, PCA(5), PCA(10)],\n",
    "          #'resamp': [SMOTEENN(), SMOTETomek()],\n",
    "          #'preprocessing__nums__scaler': [StandardScaler(), MinMaxScaler(), RobustScaler()],\n",
    "          #},   \n",
    "    \n",
    "         ]"
   ]
  },
  {
   "cell_type": "code",
   "execution_count": 39,
   "metadata": {},
   "outputs": [
    {
     "name": "stderr",
     "output_type": "stream",
     "text": [
      "/anaconda3/envs/DataScience36/lib/python3.6/site-packages/imblearn/pipeline.py:197: UserWarning: Persisting input arguments took 9.94s to run.\n",
      "If this happens often in your code, it can cause performance problems \n",
      "(results will be correct in all cases). \n",
      "The reason for this is probably some large input arguments for a wrapped\n",
      " function (e.g. large strings).\n",
      "THIS IS A JOBLIB ISSUE. If you can, kindly provide the joblib's team with an\n",
      " example so that they can fix the problem.\n",
      "  **fit_params_steps[name])\n"
     ]
    },
    {
     "data": {
      "text/plain": [
       "GridSearchCV(cv=2, error_score='raise-deprecating',\n",
       "       estimator=Pipeline(memory='cachedir',\n",
       "     steps=[('preprocessing', ColumnTransformer(n_jobs=None, remainder='drop', sparse_threshold=0.3,\n",
       "         transformer_weights=None,\n",
       "         transformers=[('nums', Pipeline(memory=None,\n",
       "     steps=[('fillna', SimpleImputer(copy=True, fill_value=None, missing_values=nan,\n",
       "       strategy='median', verb...penalty='l2', random_state=None, solver='warn',\n",
       "          tol=0.0001, verbose=0, warm_start=False))]),\n",
       "       fit_params=None, iid='warn', n_jobs=None,\n",
       "       param_grid=[{'resamp': [None, SMOTEENN(enn=None, random_state=None, ratio=None, sampling_strategy='auto',\n",
       "     smote=None)], 'featselect': [None, RFECV(cv='warn',\n",
       "   estimator=LinearRegression(copy_X=True, fit_intercept=True, n_jobs=None,\n",
       "         normalize=False),\n",
       "   min_features_to_select=1, n_job...e,\n",
       "          solver='warn', tol=0.0001, verbose=0, warm_start=False)], 'model__C': [1, 100, 10000]}],\n",
       "       pre_dispatch='2*n_jobs', refit=True, return_train_score='warn',\n",
       "       scoring='roc_auc', verbose=0)"
      ]
     },
     "execution_count": 39,
     "metadata": {},
     "output_type": "execute_result"
    }
   ],
   "source": [
    "grid = GridSearchCV(estimator=pipe, param_grid=params, scoring='roc_auc', cv=2)\n",
    "grid.fit(X_train, y_train)"
   ]
  },
  {
   "cell_type": "code",
   "execution_count": 83,
   "metadata": {},
   "outputs": [
    {
     "name": "stdout",
     "output_type": "stream",
     "text": [
      "Best: 0.7902 using {'featselect': None, 'model': LogisticRegression(C=1, class_weight='balanced', dual=False,\n",
      "          fit_intercept=True, intercept_scaling=1, max_iter=100,\n",
      "          multi_class='warn', n_jobs=None, penalty='l2', random_state=None,\n",
      "          solver='warn', tol=0.0001, verbose=0, warm_start=False), 'model__C': 1, 'resamp': None}\n"
     ]
    }
   ],
   "source": [
    "# summarize results\n",
    "print(\"Best: {:.4f} using {}\".format(grid.best_score_, \n",
    "    grid.best_params_))\n",
    "means = grid.cv_results_['mean_test_score']\n",
    "stds = grid.cv_results_['std_test_score']\n",
    "params = grid.cv_results_['params']"
   ]
  },
  {
   "cell_type": "code",
   "execution_count": 84,
   "metadata": {},
   "outputs": [
    {
     "data": {
      "text/html": [
       "<div>\n",
       "<style scoped>\n",
       "    .dataframe tbody tr th:only-of-type {\n",
       "        vertical-align: middle;\n",
       "    }\n",
       "\n",
       "    .dataframe tbody tr th {\n",
       "        vertical-align: top;\n",
       "    }\n",
       "\n",
       "    .dataframe thead th {\n",
       "        text-align: right;\n",
       "    }\n",
       "</style>\n",
       "<table border=\"1\" class=\"dataframe\">\n",
       "  <thead>\n",
       "    <tr style=\"text-align: right;\">\n",
       "      <th></th>\n",
       "      <th>Media</th>\n",
       "      <th>Stdev</th>\n",
       "      <th>Params</th>\n",
       "    </tr>\n",
       "  </thead>\n",
       "  <tbody>\n",
       "    <tr>\n",
       "      <th>0</th>\n",
       "      <td>0.7902</td>\n",
       "      <td>0.0004</td>\n",
       "      <td>{'featselect': None, 'model': LogisticRegression(C=1, class_weight='balanced', dual=False,\n",
       "          fit_intercept=True, intercept_scaling=1, max_iter=100,\n",
       "          multi_class='warn', n_jobs=None, penalty='l2', random_state=None,\n",
       "          solver='warn', tol=0.0001, verbose=0, warm_start=False), 'model__C': 1, 'resamp': None}</td>\n",
       "    </tr>\n",
       "    <tr>\n",
       "      <th>6</th>\n",
       "      <td>0.7900</td>\n",
       "      <td>0.0003</td>\n",
       "      <td>{'featselect': RFECV(cv='warn',\n",
       "   estimator=LinearRegression(copy_X=True, fit_intercept=True, n_jobs=None,\n",
       "         normalize=False),\n",
       "   min_features_to_select=1, n_jobs=None, scoring=None, step=1, verbose=0), 'model': LogisticRegression(C=1, class_weight='balanced', dual=False,\n",
       "          fit_intercept=True, intercept_scaling=1, max_iter=100,\n",
       "          multi_class='warn', n_jobs=None, penalty='l2', random_state=None,\n",
       "          solver='warn', tol=0.0001, verbose=0, warm_start=False), 'model__C': 1, 'resamp': None}</td>\n",
       "    </tr>\n",
       "    <tr>\n",
       "      <th>2</th>\n",
       "      <td>0.7883</td>\n",
       "      <td>0.0008</td>\n",
       "      <td>{'featselect': None, 'model': LogisticRegression(C=1, class_weight='balanced', dual=False,\n",
       "          fit_intercept=True, intercept_scaling=1, max_iter=100,\n",
       "          multi_class='warn', n_jobs=None, penalty='l2', random_state=None,\n",
       "          solver='warn', tol=0.0001, verbose=0, warm_start=False), 'model__C': 100, 'resamp': None}</td>\n",
       "    </tr>\n",
       "    <tr>\n",
       "      <th>4</th>\n",
       "      <td>0.7883</td>\n",
       "      <td>0.0009</td>\n",
       "      <td>{'featselect': None, 'model': LogisticRegression(C=1, class_weight='balanced', dual=False,\n",
       "          fit_intercept=True, intercept_scaling=1, max_iter=100,\n",
       "          multi_class='warn', n_jobs=None, penalty='l2', random_state=None,\n",
       "          solver='warn', tol=0.0001, verbose=0, warm_start=False), 'model__C': 10000, 'resamp': None}</td>\n",
       "    </tr>\n",
       "    <tr>\n",
       "      <th>8</th>\n",
       "      <td>0.7881</td>\n",
       "      <td>0.0005</td>\n",
       "      <td>{'featselect': RFECV(cv='warn',\n",
       "   estimator=LinearRegression(copy_X=True, fit_intercept=True, n_jobs=None,\n",
       "         normalize=False),\n",
       "   min_features_to_select=1, n_jobs=None, scoring=None, step=1, verbose=0), 'model': LogisticRegression(C=1, class_weight='balanced', dual=False,\n",
       "          fit_intercept=True, intercept_scaling=1, max_iter=100,\n",
       "          multi_class='warn', n_jobs=None, penalty='l2', random_state=None,\n",
       "          solver='warn', tol=0.0001, verbose=0, warm_start=False), 'model__C': 100, 'resamp': None}</td>\n",
       "    </tr>\n",
       "    <tr>\n",
       "      <th>10</th>\n",
       "      <td>0.7881</td>\n",
       "      <td>0.0006</td>\n",
       "      <td>{'featselect': RFECV(cv='warn',\n",
       "   estimator=LinearRegression(copy_X=True, fit_intercept=True, n_jobs=None,\n",
       "         normalize=False),\n",
       "   min_features_to_select=1, n_jobs=None, scoring=None, step=1, verbose=0), 'model': LogisticRegression(C=1, class_weight='balanced', dual=False,\n",
       "          fit_intercept=True, intercept_scaling=1, max_iter=100,\n",
       "          multi_class='warn', n_jobs=None, penalty='l2', random_state=None,\n",
       "          solver='warn', tol=0.0001, verbose=0, warm_start=False), 'model__C': 10000, 'resamp': None}</td>\n",
       "    </tr>\n",
       "    <tr>\n",
       "      <th>7</th>\n",
       "      <td>0.7847</td>\n",
       "      <td>0.0014</td>\n",
       "      <td>{'featselect': RFECV(cv='warn',\n",
       "   estimator=LinearRegression(copy_X=True, fit_intercept=True, n_jobs=None,\n",
       "         normalize=False),\n",
       "   min_features_to_select=1, n_jobs=None, scoring=None, step=1, verbose=0), 'model': LogisticRegression(C=1, class_weight='balanced', dual=False,\n",
       "          fit_intercept=True, intercept_scaling=1, max_iter=100,\n",
       "          multi_class='warn', n_jobs=None, penalty='l2', random_state=None,\n",
       "          solver='warn', tol=0.0001, verbose=0, warm_start=False), 'model__C': 1, 'resamp': SMOTEENN(enn=None, random_state=None, ratio=None, sampling_strategy='auto',\n",
       "     smote=None)}</td>\n",
       "    </tr>\n",
       "    <tr>\n",
       "      <th>1</th>\n",
       "      <td>0.7843</td>\n",
       "      <td>0.0010</td>\n",
       "      <td>{'featselect': None, 'model': LogisticRegression(C=1, class_weight='balanced', dual=False,\n",
       "          fit_intercept=True, intercept_scaling=1, max_iter=100,\n",
       "          multi_class='warn', n_jobs=None, penalty='l2', random_state=None,\n",
       "          solver='warn', tol=0.0001, verbose=0, warm_start=False), 'model__C': 1, 'resamp': SMOTEENN(enn=None, random_state=None, ratio=None, sampling_strategy='auto',\n",
       "     smote=None)}</td>\n",
       "    </tr>\n",
       "    <tr>\n",
       "      <th>3</th>\n",
       "      <td>0.7835</td>\n",
       "      <td>0.0010</td>\n",
       "      <td>{'featselect': None, 'model': LogisticRegression(C=1, class_weight='balanced', dual=False,\n",
       "          fit_intercept=True, intercept_scaling=1, max_iter=100,\n",
       "          multi_class='warn', n_jobs=None, penalty='l2', random_state=None,\n",
       "          solver='warn', tol=0.0001, verbose=0, warm_start=False), 'model__C': 100, 'resamp': SMOTEENN(enn=None, random_state=None, ratio=None, sampling_strategy='auto',\n",
       "     smote=None)}</td>\n",
       "    </tr>\n",
       "    <tr>\n",
       "      <th>5</th>\n",
       "      <td>0.7834</td>\n",
       "      <td>0.0010</td>\n",
       "      <td>{'featselect': None, 'model': LogisticRegression(C=1, class_weight='balanced', dual=False,\n",
       "          fit_intercept=True, intercept_scaling=1, max_iter=100,\n",
       "          multi_class='warn', n_jobs=None, penalty='l2', random_state=None,\n",
       "          solver='warn', tol=0.0001, verbose=0, warm_start=False), 'model__C': 10000, 'resamp': SMOTEENN(enn=None, random_state=None, ratio=None, sampling_strategy='auto',\n",
       "     smote=None)}</td>\n",
       "    </tr>\n",
       "    <tr>\n",
       "      <th>9</th>\n",
       "      <td>0.7831</td>\n",
       "      <td>0.0005</td>\n",
       "      <td>{'featselect': RFECV(cv='warn',\n",
       "   estimator=LinearRegression(copy_X=True, fit_intercept=True, n_jobs=None,\n",
       "         normalize=False),\n",
       "   min_features_to_select=1, n_jobs=None, scoring=None, step=1, verbose=0), 'model': LogisticRegression(C=1, class_weight='balanced', dual=False,\n",
       "          fit_intercept=True, intercept_scaling=1, max_iter=100,\n",
       "          multi_class='warn', n_jobs=None, penalty='l2', random_state=None,\n",
       "          solver='warn', tol=0.0001, verbose=0, warm_start=False), 'model__C': 100, 'resamp': SMOTEENN(enn=None, random_state=None, ratio=None, sampling_strategy='auto',\n",
       "     smote=None)}</td>\n",
       "    </tr>\n",
       "    <tr>\n",
       "      <th>11</th>\n",
       "      <td>0.7829</td>\n",
       "      <td>0.0004</td>\n",
       "      <td>{'featselect': RFECV(cv='warn',\n",
       "   estimator=LinearRegression(copy_X=True, fit_intercept=True, n_jobs=None,\n",
       "         normalize=False),\n",
       "   min_features_to_select=1, n_jobs=None, scoring=None, step=1, verbose=0), 'model': LogisticRegression(C=1, class_weight='balanced', dual=False,\n",
       "          fit_intercept=True, intercept_scaling=1, max_iter=100,\n",
       "          multi_class='warn', n_jobs=None, penalty='l2', random_state=None,\n",
       "          solver='warn', tol=0.0001, verbose=0, warm_start=False), 'model__C': 10000, 'resamp': SMOTEENN(enn=None, random_state=None, ratio=None, sampling_strategy='auto',\n",
       "     smote=None)}</td>\n",
       "    </tr>\n",
       "  </tbody>\n",
       "</table>\n",
       "</div>"
      ],
      "text/plain": [
       "     Media   Stdev  \\\n",
       "0   0.7902  0.0004   \n",
       "6   0.7900  0.0003   \n",
       "2   0.7883  0.0008   \n",
       "4   0.7883  0.0009   \n",
       "8   0.7881  0.0005   \n",
       "10  0.7881  0.0006   \n",
       "7   0.7847  0.0014   \n",
       "1   0.7843  0.0010   \n",
       "3   0.7835  0.0010   \n",
       "5   0.7834  0.0010   \n",
       "9   0.7831  0.0005   \n",
       "11  0.7829  0.0004   \n",
       "\n",
       "                                                                                                                                                                                                                                                                                                                                                                                                                                                                                                                                                                                                                                 Params  \n",
       "0   {'featselect': None, 'model': LogisticRegression(C=1, class_weight='balanced', dual=False,\n",
       "          fit_intercept=True, intercept_scaling=1, max_iter=100,\n",
       "          multi_class='warn', n_jobs=None, penalty='l2', random_state=None,\n",
       "          solver='warn', tol=0.0001, verbose=0, warm_start=False), 'model__C': 1, 'resamp': None}                                                                                                                                                                                                                                                                                            \n",
       "6   {'featselect': RFECV(cv='warn',\n",
       "   estimator=LinearRegression(copy_X=True, fit_intercept=True, n_jobs=None,\n",
       "         normalize=False),\n",
       "   min_features_to_select=1, n_jobs=None, scoring=None, step=1, verbose=0), 'model': LogisticRegression(C=1, class_weight='balanced', dual=False,\n",
       "          fit_intercept=True, intercept_scaling=1, max_iter=100,\n",
       "          multi_class='warn', n_jobs=None, penalty='l2', random_state=None,\n",
       "          solver='warn', tol=0.0001, verbose=0, warm_start=False), 'model__C': 1, 'resamp': None}                                                                                              \n",
       "2   {'featselect': None, 'model': LogisticRegression(C=1, class_weight='balanced', dual=False,\n",
       "          fit_intercept=True, intercept_scaling=1, max_iter=100,\n",
       "          multi_class='warn', n_jobs=None, penalty='l2', random_state=None,\n",
       "          solver='warn', tol=0.0001, verbose=0, warm_start=False), 'model__C': 100, 'resamp': None}                                                                                                                                                                                                                                                                                          \n",
       "4   {'featselect': None, 'model': LogisticRegression(C=1, class_weight='balanced', dual=False,\n",
       "          fit_intercept=True, intercept_scaling=1, max_iter=100,\n",
       "          multi_class='warn', n_jobs=None, penalty='l2', random_state=None,\n",
       "          solver='warn', tol=0.0001, verbose=0, warm_start=False), 'model__C': 10000, 'resamp': None}                                                                                                                                                                                                                                                                                        \n",
       "8   {'featselect': RFECV(cv='warn',\n",
       "   estimator=LinearRegression(copy_X=True, fit_intercept=True, n_jobs=None,\n",
       "         normalize=False),\n",
       "   min_features_to_select=1, n_jobs=None, scoring=None, step=1, verbose=0), 'model': LogisticRegression(C=1, class_weight='balanced', dual=False,\n",
       "          fit_intercept=True, intercept_scaling=1, max_iter=100,\n",
       "          multi_class='warn', n_jobs=None, penalty='l2', random_state=None,\n",
       "          solver='warn', tol=0.0001, verbose=0, warm_start=False), 'model__C': 100, 'resamp': None}                                                                                            \n",
       "10  {'featselect': RFECV(cv='warn',\n",
       "   estimator=LinearRegression(copy_X=True, fit_intercept=True, n_jobs=None,\n",
       "         normalize=False),\n",
       "   min_features_to_select=1, n_jobs=None, scoring=None, step=1, verbose=0), 'model': LogisticRegression(C=1, class_weight='balanced', dual=False,\n",
       "          fit_intercept=True, intercept_scaling=1, max_iter=100,\n",
       "          multi_class='warn', n_jobs=None, penalty='l2', random_state=None,\n",
       "          solver='warn', tol=0.0001, verbose=0, warm_start=False), 'model__C': 10000, 'resamp': None}                                                                                          \n",
       "7   {'featselect': RFECV(cv='warn',\n",
       "   estimator=LinearRegression(copy_X=True, fit_intercept=True, n_jobs=None,\n",
       "         normalize=False),\n",
       "   min_features_to_select=1, n_jobs=None, scoring=None, step=1, verbose=0), 'model': LogisticRegression(C=1, class_weight='balanced', dual=False,\n",
       "          fit_intercept=True, intercept_scaling=1, max_iter=100,\n",
       "          multi_class='warn', n_jobs=None, penalty='l2', random_state=None,\n",
       "          solver='warn', tol=0.0001, verbose=0, warm_start=False), 'model__C': 1, 'resamp': SMOTEENN(enn=None, random_state=None, ratio=None, sampling_strategy='auto',\n",
       "     smote=None)}      \n",
       "1   {'featselect': None, 'model': LogisticRegression(C=1, class_weight='balanced', dual=False,\n",
       "          fit_intercept=True, intercept_scaling=1, max_iter=100,\n",
       "          multi_class='warn', n_jobs=None, penalty='l2', random_state=None,\n",
       "          solver='warn', tol=0.0001, verbose=0, warm_start=False), 'model__C': 1, 'resamp': SMOTEENN(enn=None, random_state=None, ratio=None, sampling_strategy='auto',\n",
       "     smote=None)}                                                                                                                                                                                                    \n",
       "3   {'featselect': None, 'model': LogisticRegression(C=1, class_weight='balanced', dual=False,\n",
       "          fit_intercept=True, intercept_scaling=1, max_iter=100,\n",
       "          multi_class='warn', n_jobs=None, penalty='l2', random_state=None,\n",
       "          solver='warn', tol=0.0001, verbose=0, warm_start=False), 'model__C': 100, 'resamp': SMOTEENN(enn=None, random_state=None, ratio=None, sampling_strategy='auto',\n",
       "     smote=None)}                                                                                                                                                                                                  \n",
       "5   {'featselect': None, 'model': LogisticRegression(C=1, class_weight='balanced', dual=False,\n",
       "          fit_intercept=True, intercept_scaling=1, max_iter=100,\n",
       "          multi_class='warn', n_jobs=None, penalty='l2', random_state=None,\n",
       "          solver='warn', tol=0.0001, verbose=0, warm_start=False), 'model__C': 10000, 'resamp': SMOTEENN(enn=None, random_state=None, ratio=None, sampling_strategy='auto',\n",
       "     smote=None)}                                                                                                                                                                                                \n",
       "9   {'featselect': RFECV(cv='warn',\n",
       "   estimator=LinearRegression(copy_X=True, fit_intercept=True, n_jobs=None,\n",
       "         normalize=False),\n",
       "   min_features_to_select=1, n_jobs=None, scoring=None, step=1, verbose=0), 'model': LogisticRegression(C=1, class_weight='balanced', dual=False,\n",
       "          fit_intercept=True, intercept_scaling=1, max_iter=100,\n",
       "          multi_class='warn', n_jobs=None, penalty='l2', random_state=None,\n",
       "          solver='warn', tol=0.0001, verbose=0, warm_start=False), 'model__C': 100, 'resamp': SMOTEENN(enn=None, random_state=None, ratio=None, sampling_strategy='auto',\n",
       "     smote=None)}    \n",
       "11  {'featselect': RFECV(cv='warn',\n",
       "   estimator=LinearRegression(copy_X=True, fit_intercept=True, n_jobs=None,\n",
       "         normalize=False),\n",
       "   min_features_to_select=1, n_jobs=None, scoring=None, step=1, verbose=0), 'model': LogisticRegression(C=1, class_weight='balanced', dual=False,\n",
       "          fit_intercept=True, intercept_scaling=1, max_iter=100,\n",
       "          multi_class='warn', n_jobs=None, penalty='l2', random_state=None,\n",
       "          solver='warn', tol=0.0001, verbose=0, warm_start=False), 'model__C': 10000, 'resamp': SMOTEENN(enn=None, random_state=None, ratio=None, sampling_strategy='auto',\n",
       "     smote=None)}  "
      ]
     },
     "execution_count": 84,
     "metadata": {},
     "output_type": "execute_result"
    }
   ],
   "source": [
    "results = pd.DataFrame([means, stds, params], index=['Media', 'Stdev', 'Params']).T\n",
    "results = results.sort_values(by=['Media', 'Stdev'], ascending=[False, True])\n",
    "results['Media']=results['Media'].map('{:,.4f}'.format)\n",
    "results['Stdev']=results['Stdev'].map('{:,.4f}'.format)\n",
    "results"
   ]
  },
  {
   "cell_type": "code",
   "execution_count": 91,
   "metadata": {},
   "outputs": [],
   "source": [
    "# Guardar resultados de corrida en Train\n",
    "#results.to_csv('run1.csv')"
   ]
  },
  {
   "cell_type": "markdown",
   "metadata": {},
   "source": [
    "#### Evaluación del modelo en Validación"
   ]
  },
  {
   "cell_type": "code",
   "execution_count": 108,
   "metadata": {},
   "outputs": [
    {
     "data": {
      "text/plain": [
       "0.8263984047448614"
      ]
     },
     "execution_count": 108,
     "metadata": {},
     "output_type": "execute_result"
    }
   ],
   "source": [
    "# Evaluacion del modelo para tunear threshold\n",
    "p_pred = grid.predict_proba(X_val)[:, 1]  # sobre test set\n",
    "y_pred = grid.predict(X_val)     \n",
    "auc_test = roc_auc_score(y_val, p_pred)\n",
    "auc_test"
   ]
  },
  {
   "cell_type": "markdown",
   "metadata": {},
   "source": [
    "#### Confusion Matrix"
   ]
  },
  {
   "cell_type": "code",
   "execution_count": 109,
   "metadata": {},
   "outputs": [
    {
     "data": {
      "image/png": "[encoded data removed]",
      "text/plain": [
       "<Figure size 432x288 with 1 Axes>"
      ]
     },
     "metadata": {},
     "output_type": "display_data"
    }
   ],
   "source": [
    "mat = confusion_matrix(y_val, y_pred)\n",
    "sns.heatmap(mat, square=True, annot=True, fmt='d', cbar=False, cmap='Reds', center=True)\n",
    "plt.xlabel('Predicted')\n",
    "plt.ylabel('True');"
   ]
  },
  {
   "cell_type": "markdown",
   "metadata": {},
   "source": [
    "#### ROC curve\n",
    "It is created by plotting the fraction of true positives out of the positives (TPR = true positive rate) vs. the fraction of false positives out of the negatives (FPR = false positive rate), at various threshold settings. TPR is also known as sensitivity, and FPR is one minus the specificity or true negative rate."
   ]
  },
  {
   "cell_type": "code",
   "execution_count": 105,
   "metadata": {
    "scrolled": true
   },
   "outputs": [
    {
     "data": {
      "image/png": "[encoded data removed]",
      "text/plain": [
       "<Figure size 432x288 with 1 Axes>"
      ]
     },
     "metadata": {},
     "output_type": "display_data"
    }
   ],
   "source": [
    "# ROC Curve\n",
    "fpr, tpr, thresholds = roc_curve(y_val, p_pred)\n",
    "roc_auc = auc(fpr, tpr)\n",
    "\n",
    "plt.title('ROC Curve')\n",
    "plt.plot(fpr, tpr, 'b', label = 'AUC = {:0.4f}'.format(roc_auc))\n",
    "plt.legend(loc = 'lower right')\n",
    "\n",
    "plt.plot([0, 1], [0, 1],'r--')\n",
    "\n",
    "plt.xlim([0, 1])\n",
    "plt.ylim([0, 1])\n",
    "plt.ylabel('True Positive Rate')\n",
    "plt.xlabel('False Positive Rate')\n",
    "plt.show();"
   ]
  },
  {
   "cell_type": "markdown",
   "metadata": {},
   "source": [
    "#### Tuning del threshold"
   ]
  },
  {
   "cell_type": "code",
   "execution_count": 81,
   "metadata": {},
   "outputs": [
    {
     "data": {
      "text/plain": [
       "array([0.15869345, 0.27522352, 0.08134348, 0.44386677, 0.20023095,\n",
       "       0.43847765, 0.39562663, 0.19284623, 0.1313127 , 0.73706908])"
      ]
     },
     "execution_count": 81,
     "metadata": {},
     "output_type": "execute_result"
    },
    {
     "data": {
      "text/plain": [
       "array([0, 0, 0, 0, 0, 0, 0, 0, 0, 1])"
      ]
     },
     "execution_count": 81,
     "metadata": {},
     "output_type": "execute_result"
    }
   ],
   "source": [
    "p_pred[:10]\n",
    "y_pred[:10]"
   ]
  },
  {
   "cell_type": "code",
   "execution_count": 73,
   "metadata": {},
   "outputs": [],
   "source": [
    "y_pred_t = [1 if p_pred[i] > 0.5 else 0 for i in range(len(p_pred))]"
   ]
  },
  {
   "cell_type": "code",
   "execution_count": 76,
   "metadata": {},
   "outputs": [
    {
     "data": {
      "text/plain": [
       "True"
      ]
     },
     "execution_count": 76,
     "metadata": {},
     "output_type": "execute_result"
    }
   ],
   "source": [
    "all(y_pred == y_pred_t)"
   ]
  },
  {
   "cell_type": "code",
   "execution_count": 93,
   "metadata": {},
   "outputs": [
    {
     "data": {
      "text/plain": [
       "0.8263984047448614"
      ]
     },
     "execution_count": 93,
     "metadata": {},
     "output_type": "execute_result"
    }
   ],
   "source": [
    "roc_auc_score(y_val, p_pred)"
   ]
  },
  {
   "cell_type": "code",
   "execution_count": 77,
   "metadata": {},
   "outputs": [],
   "source": [
    "def tune_threshold(prob, y_true, threshold=0.5):\n",
    "    y_new = [1 if prob[i] > 0.5 else 0 for i in range(len(prob))]\n",
    "    return roc_auc_score(pred, y_new)"
   ]
  },
  {
   "cell_type": "markdown",
   "metadata": {},
   "source": [
    "### Evaluación del modelo en Test"
   ]
  },
  {
   "cell_type": "code",
   "execution_count": 107,
   "metadata": {},
   "outputs": [
    {
     "data": {
      "text/plain": [
       "0.7922610769419708"
      ]
     },
     "execution_count": 107,
     "metadata": {},
     "output_type": "execute_result"
    }
   ],
   "source": [
    "# Evaluacion del modelo para tunear threshold\n",
    "p_pred = grid.predict_proba(X_test)[:, 1]  # sobre test set\n",
    "y_pred = grid.predict(X_test)     \n",
    "auc_test = roc_auc_score(y_test, p_pred)\n",
    "auc_test"
   ]
  }
 ],
 "metadata": {
  "kernelspec": {
   "display_name": "Python 3",
   "language": "python",
   "name": "python3"
  },
  "language_info": {
   "codemirror_mode": {
    "name": "ipython",
    "version": 3
   },
   "file_extension": ".py",
   "mimetype": "text/x-python",
   "name": "python",
   "nbconvert_exporter": "python",
   "pygments_lexer": "ipython3",
   "version": "3.6.5"
  }
 },
 "nbformat": 4,
 "nbformat_minor": 2
}
